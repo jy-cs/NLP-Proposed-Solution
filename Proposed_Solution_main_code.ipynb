{
  "nbformat": 4,
  "nbformat_minor": 0,
  "metadata": {
    "colab": {
      "provenance": []
    },
    "kernelspec": {
      "name": "python3",
      "display_name": "Python 3"
    },
    "language_info": {
      "name": "python"
    }
  },
  "cells": [
    {
      "cell_type": "markdown",
      "source": [
        "# COMP-8730_Project Proposed Solution\n",
        ">## Student Information\n",
        ">* Name: Jiajie Yang\n",
        ">* UWin Acc: yang4q\n",
        ">* Student ID: 110115897"
      ],
      "metadata": {
        "id": "h-fJv_7nYGfD"
      }
    },
    {
      "cell_type": "code",
      "source": [
        "!python --version\n",
        "!pip install \"pytrec-eval-terrier\"\n",
        "!pip install --user -U nltk"
      ],
      "metadata": {
        "id": "2KeQvXqPYt_m"
      },
      "execution_count": null,
      "outputs": []
    },
    {
      "metadata": {
        "id": "OAsJ5VRh9LpF",
        "colab": {
          "base_uri": "https://localhost:8080/"
        },
        "outputId": "a5f5dc4b-01b4-4533-bdf6-9a2ea0ee30b9"
      },
      "cell_type": "code",
      "source": [
        "import pytrec_eval\n",
        "import json\n",
        "import nltk\n",
        "from nltk.corpus import brown\n",
        "nltk.download('brown')\n",
        "import random\n",
        "from random import randint\n",
        "import numpy as np\n",
        "import torch"
      ],
      "execution_count": null,
      "outputs": [
        {
          "output_type": "stream",
          "name": "stderr",
          "text": [
            "[nltk_data] Downloading package brown to /root/nltk_data...\n",
            "[nltk_data]   Unzipping corpora/brown.zip.\n"
          ]
        }
      ]
    },
    {
      "cell_type": "markdown",
      "source": [
        ">## Load SentenceBERT model"
      ],
      "metadata": {
        "id": "aHpcjoRmIa48"
      }
    },
    {
      "cell_type": "code",
      "source": [
        "from sentence_transformers import SentenceTransformer\n",
        "sbert_model = SentenceTransformer('bert-base-nli-mean-tokens')\n",
        "sentence_embeddings = model.encode(sentences)\n",
        "query = \"Ichthyosis follicularis with atrichia and photophobia (IFAP) syndrome in two unrelated female patients. The IFAP syndrome is characterized by the congenital onset of ichthyosis follicularis, absence of hair, and photophobia. A limited number of patients with the disorder have been described, and X-linked recessive inheritance has been proposed. Two unrelated female patients with a complete IFAP syndrome are reported. Both patients show a diffuse distribution of the disorder without linear arrangement. Because the suggested X-linked recessive pattern of inheritance is unlikely in these patients, a different way of transmission or, alternatively, genetic heterogeneity of the disorder has to be considered.\"\n",
        "query_vec = model.encode([query])[0]\n",
        "for sent in sentences:\n",
        "  sim = cosine(query_vec, model.encode([sent])[0])\n",
        "  print(\"Sentence = \", sent, \"; similarity = \", sim)\n"
      ],
      "metadata": {
        "id": "h9ku6qEJIizA"
      },
      "execution_count": null,
      "outputs": []
    },
    {
      "cell_type": "markdown",
      "source": [
        ">## Result"
      ],
      "metadata": {
        "id": "d969S-U7JS50"
      }
    },
    {
      "cell_type": "code",
      "source": [
        "np.linalg.norm(model.encode([query]))"
      ],
      "metadata": {
        "id": "Sk9aV9-rJa7f"
      },
      "execution_count": null,
      "outputs": []
    }
  ]
}